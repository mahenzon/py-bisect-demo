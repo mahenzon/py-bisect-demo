{
 "cells": [
  {
   "cell_type": "markdown",
   "metadata": {
    "collapsed": true,
    "pycharm": {
     "is_executing": true
    }
   },
   "source": [
    "# Python bisect"
   ]
  },
  {
   "cell_type": "code",
   "execution_count": 1,
   "metadata": {},
   "outputs": [],
   "source": [
    "from bisect import bisect, insort"
   ]
  },
  {
   "cell_type": "code",
   "execution_count": 2,
   "metadata": {},
   "outputs": [
    {
     "data": {
      "text/plain": [
       "[(100, 'perl'), (200, 'tcl'), (300, 'ruby'), (400, 'lua'), (500, 'python')]"
      ]
     },
     "execution_count": 2,
     "metadata": {},
     "output_type": "execute_result"
    }
   ],
   "source": [
    "scores = [(100, 'perl'), (200, 'tcl'), (400, 'lua'), (500, 'python')]\n",
    "insort(scores, (300, 'ruby'))\n",
    "scores"
   ]
  },
  {
   "cell_type": "code",
   "execution_count": 3,
   "metadata": {},
   "outputs": [
    {
     "name": "stdout",
     "output_type": "stream",
     "text": [
      "[Movie(name='Jaws', released=1975, director='Spielberg'),\n",
      " Movie(name='Titanic', released=1997, director='Cameron'),\n",
      " Movie(name='The Birds',\n",
      "       released=1963,\n",
      "       director='Hitchcock'),\n",
      " Movie(name='Aliens', released=1986, director='Cameron')]\n"
     ]
    }
   ],
   "source": [
    "from dataclasses import dataclass\n",
    "from pprint import pprint\n",
    "\n",
    "\n",
    "@dataclass\n",
    "class Movie:\n",
    "    name: str\n",
    "    released: int\n",
    "    director: str\n",
    "\n",
    "\n",
    "movies = [\n",
    "    Movie('Jaws', 1975, 'Spielberg'),\n",
    "    Movie('Titanic', 1997, 'Cameron'),\n",
    "    Movie('The Birds', 1963, 'Hitchcock'),\n",
    "    Movie('Aliens', 1986, 'Cameron'),\n",
    "]\n",
    "pprint(movies, width=60)"
   ]
  },
  {
   "cell_type": "code",
   "execution_count": 4,
   "metadata": {},
   "outputs": [
    {
     "name": "stdout",
     "output_type": "stream",
     "text": [
      "[Movie(name='The Birds', released=1963, director='Hitchcock'),\n",
      " Movie(name='Jaws', released=1975, director='Spielberg'),\n",
      " Movie(name='Aliens', released=1986, director='Cameron'),\n",
      " Movie(name='Titanic', released=1997, director='Cameron')]\n"
     ]
    }
   ],
   "source": [
    "from operator import attrgetter\n",
    "\n",
    "by_year = attrgetter('released')\n",
    "movies.sort(key=by_year)\n",
    "pprint(movies, width=69)"
   ]
  },
  {
   "cell_type": "code",
   "execution_count": 5,
   "metadata": {},
   "outputs": [
    {
     "data": {
      "text/plain": [
       "0"
      ]
     },
     "execution_count": 5,
     "metadata": {},
     "output_type": "execute_result"
    }
   ],
   "source": [
    "bisect(movies, 1960, key=by_year)"
   ]
  },
  {
   "cell_type": "code",
   "execution_count": 6,
   "metadata": {},
   "outputs": [
    {
     "data": {
      "text/plain": [
       "1"
      ]
     },
     "execution_count": 6,
     "metadata": {},
     "output_type": "execute_result"
    }
   ],
   "source": [
    "bisect(movies, 1969, key=by_year)"
   ]
  },
  {
   "cell_type": "code",
   "execution_count": 7,
   "metadata": {},
   "outputs": [
    {
     "data": {
      "text/plain": [
       "2"
      ]
     },
     "execution_count": 7,
     "metadata": {},
     "output_type": "execute_result"
    }
   ],
   "source": [
    "bisect(movies, 1979, key=by_year)"
   ]
  },
  {
   "cell_type": "code",
   "execution_count": 8,
   "metadata": {},
   "outputs": [
    {
     "data": {
      "text/plain": [
       "Movie(name='Aliens', released=1986, director='Cameron')"
      ]
     },
     "execution_count": 8,
     "metadata": {},
     "output_type": "execute_result"
    }
   ],
   "source": [
    "movies[bisect(movies, 1979, key=by_year)]"
   ]
  },
  {
   "cell_type": "code",
   "execution_count": 9,
   "metadata": {},
   "outputs": [
    {
     "name": "stdout",
     "output_type": "stream",
     "text": [
      "[Movie(name='The Birds', released=1963, director='Hitchcock'),\n",
      " Movie(name='Love Story', released=1970, director='Hiller'),\n",
      " Movie(name='Jaws', released=1975, director='Spielberg'),\n",
      " Movie(name='Aliens', released=1986, director='Cameron'),\n",
      " Movie(name='Titanic', released=1997, director='Cameron')]\n"
     ]
    }
   ],
   "source": [
    "romance = Movie('Love Story', 1970, 'Hiller')\n",
    "insort(movies, romance, key=by_year)\n",
    "pprint(movies, width=69)"
   ]
  },
  {
   "cell_type": "code",
   "execution_count": 10,
   "metadata": {},
   "outputs": [],
   "source": [
    "from bisect import bisect_left, insort_left"
   ]
  },
  {
   "cell_type": "code",
   "execution_count": 11,
   "metadata": {},
   "outputs": [
    {
     "data": {
      "text/plain": [
       "1"
      ]
     },
     "execution_count": 11,
     "metadata": {},
     "output_type": "execute_result"
    }
   ],
   "source": [
    "bisect_left(movies, 1970, key=by_year)"
   ]
  },
  {
   "cell_type": "code",
   "execution_count": 12,
   "metadata": {},
   "outputs": [
    {
     "data": {
      "text/plain": [
       "2"
      ]
     },
     "execution_count": 12,
     "metadata": {},
     "output_type": "execute_result"
    }
   ],
   "source": [
    "bisect(movies, 1970, key=by_year)"
   ]
  },
  {
   "cell_type": "code",
   "execution_count": 14,
   "metadata": {},
   "outputs": [
    {
     "name": "stdout",
     "output_type": "stream",
     "text": [
      "[Movie(name='The Birds', released=1963, director='Hitchcock'),\n",
      " Movie(name='Woodstock', released=1970, director='Wadleigh'),\n",
      " Movie(name='Love Story', released=1970, director='Hiller'),\n",
      " Movie(name='Jaws', released=1975, director='Spielberg'),\n",
      " Movie(name='Aliens', released=1986, director='Cameron'),\n",
      " Movie(name='Titanic', released=1997, director='Cameron')]\n"
     ]
    }
   ],
   "source": [
    "new = Movie('Woodstock', 1970, 'Wadleigh')\n",
    "insort_left(movies, new, key=by_year)\n",
    "pprint(movies, width=69)"
   ]
  },
  {
   "cell_type": "code",
   "execution_count": null,
   "metadata": {},
   "outputs": [],
   "source": []
  }
 ],
 "metadata": {
  "kernelspec": {
   "display_name": "Python 3 (ipykernel)",
   "language": "python",
   "name": "python3"
  },
  "language_info": {
   "codemirror_mode": {
    "name": "ipython",
    "version": 3
   },
   "file_extension": ".py",
   "mimetype": "text/x-python",
   "name": "python",
   "nbconvert_exporter": "python",
   "pygments_lexer": "ipython3",
   "version": "3.11.2"
  }
 },
 "nbformat": 4,
 "nbformat_minor": 1
}
